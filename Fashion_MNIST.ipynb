{
 "cells": [
  {
   "cell_type": "markdown",
   "metadata": {
    "id": "2SV9QMSAgTdI"
   },
   "source": [
    "# Fashion Prof 👕\n",
    "## Problem\n",
    "The Out-of-Limbo Corp has produced a cloth series called \"Off the Limbo\" a thousad years ago. \\\n",
    "For halloween, they wanna redistributed the leftover (around 10 million clothes). \\\n",
    "To decrease the costs, they want an image classification model so that they can feed the cloth type to a machine which puts the clothes into boxes and pack them up.\n",
    "## Data\n",
    "Out-of-Limbo has manually classified 70,000 data to train the model. They stored it in a weird dataset called \"Fashion MNIST\" \\\n",
    "[Repo on GH](https://github.com/zalandoresearch/fashion-mnist)\n",
    "## Evaluation\n",
    "An accuracy of 0.8 will define the success of the model\n",
    "> Cuz a mistake can be regarded as a Halloween Special\n",
    "## Features\n",
    "Just like this: `(image, label)`\n",
    "Labels are in a one-hot encoded format (i.e. numerical). So, their association;\n",
    "\n",
    "| Label | Description |\n",
    "| --- | --- |\n",
    "| 0 | T-shirt/top |\n",
    "| 1 | Trouser |\n",
    "| 2 | Pullover |\n",
    "| 3 | Dress |\n",
    "| 4 | Coat |\n",
    "| 5 | Sandal |\n",
    "| 6 | Shirt |\n",
    "| 7 | Sneaker |\n",
    "| 8 | Bag |\n",
    "| 9 | Ankle boot |"
   ]
  },
  {
   "cell_type": "code",
   "execution_count": null,
   "metadata": {
    "id": "CtlkGgZshIhM"
   },
   "outputs": [],
   "source": [
    "# @title Importing the required libraries 📚\n",
    "import math\n",
    "import pandas as pd\n",
    "import numpy as np\n",
    "import matplotlib.pyplot as plt\n",
    "import tensorflow as tf\n",
    "import tensorflow_hub as hub\n",
    "import tensorflow_datasets as tfds"
   ]
  },
  {
   "cell_type": "markdown",
   "metadata": {
    "id": "LKjF8Yjn34Fb"
   },
   "source": [
    "### Getting the Data Ready!"
   ]
  },
  {
   "cell_type": "code",
   "execution_count": null,
   "metadata": {
    "colab": {
     "base_uri": "https://localhost:8080/"
    },
    "executionInfo": {
     "elapsed": 512,
     "status": "ok",
     "timestamp": 1697973225230,
     "user": {
      "displayName": "Senash Thenuja",
      "userId": "03732622147776704394"
     },
     "user_tz": -780
    },
    "id": "BFJldNT7ju6q",
    "outputId": "42d6290d-ddc1-438d-94bd-ba144bfcb239"
   },
   "outputs": [],
   "source": [
    "# Importing the dataset\n",
    "data, metadata = tfds.load(\"fashion_mnist\", as_supervised=True, with_info=True)\n",
    "data"
   ]
  },
  {
   "cell_type": "code",
   "execution_count": null,
   "metadata": {
    "id": "sh6N7CNrmA-5"
   },
   "outputs": [],
   "source": [
    "# Splitting the data into train and test\n",
    "train_dataset, test_dataset = data[\"train\"], data[\"test\"]"
   ]
  },
  {
   "cell_type": "code",
   "execution_count": null,
   "metadata": {
    "colab": {
     "base_uri": "https://localhost:8080/"
    },
    "executionInfo": {
     "elapsed": 13,
     "status": "ok",
     "timestamp": 1697973225231,
     "user": {
      "displayName": "Senash Thenuja",
      "userId": "03732622147776704394"
     },
     "user_tz": -780
    },
    "id": "J9JuxBaAmWnX",
    "outputId": "831654cc-ddca-43d9-cce0-5e6b8351501e"
   },
   "outputs": [],
   "source": [
    "num_training_data = metadata.splits['train'].num_examples\n",
    "num_testing_data = -metadata.splits['test'].num_examples\n",
    "\n",
    "print(f\"We have {num_training_data} data examples for training⚙️!\")\n",
    "print(f\"We have {num_testing_data} data examples for testing🧪!\")"
   ]
  },
  {
   "cell_type": "code",
   "execution_count": null,
   "metadata": {
    "id": "-AYaEQ9a5MAZ"
   },
   "outputs": [],
   "source": [
    "class_names = metadata.features[\"label\"].names"
   ]
  },
  {
   "cell_type": "code",
   "execution_count": null,
   "metadata": {
    "colab": {
     "base_uri": "https://localhost:8080/"
    },
    "executionInfo": {
     "elapsed": 398,
     "status": "ok",
     "timestamp": 1697973225620,
     "user": {
      "displayName": "Senash Thenuja",
      "userId": "03732622147776704394"
     },
     "user_tz": -780
    },
    "id": "RBtROIiLollb",
    "outputId": "4f394717-ba2c-4d12-f0bf-413ec95bcf5a"
   },
   "outputs": [],
   "source": [
    "next(iter(train_dataset))"
   ]
  },
  {
   "cell_type": "code",
   "execution_count": null,
   "metadata": {
    "id": "MGSyUk5mz5uw"
   },
   "outputs": [],
   "source": [
    "# Every pixel ranges from 0-255. So normalising them...\n",
    "\n",
    "def normalize(image, labels):\n",
    "    image = tf.cast(image, tf.float32)   # Converting the pixel values to floats\n",
    "    image /= 255   # Normalising\n",
    "    return image, labels\n",
    "\n",
    "train_dataset = train_dataset.map(normalize)\n",
    "test_dataset = test_dataset.map(normalize)"
   ]
  },
  {
   "cell_type": "code",
   "execution_count": null,
   "metadata": {
    "id": "b4LP97ih2D5v"
   },
   "outputs": [],
   "source": [
    "# Caching them for faster processing...\n",
    "train_dataset = train_dataset.cache()\n",
    "test_dataset = test_dataset.cache()"
   ]
  },
  {
   "cell_type": "markdown",
   "metadata": {
    "id": "ru02nSUT2iis"
   },
   "source": [
    "### EDA"
   ]
  },
  {
   "cell_type": "code",
   "execution_count": null,
   "metadata": {
    "colab": {
     "base_uri": "https://localhost:8080/",
     "height": 282
    },
    "executionInfo": {
     "elapsed": 738,
     "status": "ok",
     "timestamp": 1697973226354,
     "user": {
      "displayName": "Senash Thenuja",
      "userId": "03732622147776704394"
     },
     "user_tz": -780
    },
    "id": "HL-ijn7i3Cy1",
    "outputId": "3db42c87-e7be-46e6-9751-226e98922910"
   },
   "outputs": [],
   "source": [
    "# Plotting a random image\n",
    "image, label = next(iter(train_dataset))\n",
    "\n",
    "image = image.numpy().reshape(28,28)\n",
    "\n",
    "plt.figure(figsize=(3,3))\n",
    "plt.imshow(image, cmap=plt.cm.binary)\n",
    "plt.colorbar()\n",
    "plt.xlabel(class_names[label])\n",
    "plt.xticks([])\n",
    "plt.yticks([]);"
   ]
  },
  {
   "cell_type": "markdown",
   "metadata": {
    "id": "0raG0IT13Hmc"
   },
   "source": [
    "`train_dataset.take(n)` spits out an iterable of that many values"
   ]
  },
  {
   "cell_type": "code",
   "execution_count": null,
   "metadata": {
    "colab": {
     "base_uri": "https://localhost:8080/",
     "height": 426
    },
    "executionInfo": {
     "elapsed": 4387,
     "status": "ok",
     "timestamp": 1697973230736,
     "user": {
      "displayName": "Senash Thenuja",
      "userId": "03732622147776704394"
     },
     "user_tz": -780
    },
    "id": "TPdQIcud4kji",
    "outputId": "ac36c9e3-36c8-47c8-8ee7-4a26f81dd1aa"
   },
   "outputs": [],
   "source": [
    "# Plotting 25 Images\n",
    "for i, (image, label) in enumerate(train_dataset.take(25)):\n",
    "    image = image.numpy().reshape(28,28)\n",
    "    plt.subplot(5, 5, i+1)\n",
    "    plt.imshow(image, cmap=plt.cm.binary)\n",
    "    plt.subplots_adjust(hspace=0.5)\n",
    "    plt.xlabel(class_names[label])\n",
    "    plt.grid(False)\n",
    "    plt.xticks([])\n",
    "    plt.yticks([]);"
   ]
  },
  {
   "cell_type": "code",
   "execution_count": null,
   "metadata": {
    "colab": {
     "base_uri": "https://localhost:8080/"
    },
    "executionInfo": {
     "elapsed": 580,
     "status": "ok",
     "timestamp": 1697973231310,
     "user": {
      "displayName": "Senash Thenuja",
      "userId": "03732622147776704394"
     },
     "user_tz": -780
    },
    "id": "jdKzPjhd6tvt",
    "outputId": "17f0518f-d73e-4c5d-c6db-403364f45aa0"
   },
   "outputs": [],
   "source": [
    "# Checking out the image shape\n",
    "image, label = next(iter(train_dataset))\n",
    "image.shape"
   ]
  },
  {
   "cell_type": "markdown",
   "metadata": {
    "id": "wI9_JCEikzFa"
   },
   "source": [
    "## Modelling"
   ]
  },
  {
   "cell_type": "code",
   "execution_count": null,
   "metadata": {
    "id": "EkN6qVnLlDM7"
   },
   "outputs": [],
   "source": [
    "def build_model():\n",
    "    \"\"\"\n",
    "    Builds up a model and returns it\n",
    "    \"\"\"\n",
    "\n",
    "    # Defining the model\n",
    "    model = tf.keras.Sequential([\n",
    "        # Convolution Layer 1\n",
    "        tf.keras.layers.Conv2D(64, (3,3), activation=\"relu\", input_shape=(28,28,1)),\n",
    "        tf.keras.layers.MaxPool2D((2,2)),\n",
    "\n",
    "        # Convolution Layer 2\n",
    "        tf.keras.layers.Conv2D(32, (3,3), activation=\"relu\"),\n",
    "        tf.keras.layers.MaxPool2D((2,2)),\n",
    "\n",
    "        # Dense Network\n",
    "        tf.keras.layers.Flatten(),\n",
    "        tf.keras.layers.Dense(128, activation=\"relu\"),\n",
    "        tf.keras.layers.Dense(10, activation=\"softmax\")\n",
    "    ])\n",
    "\n",
    "    model.compile(\n",
    "        optimizer=\"adam\",\n",
    "        metrics=[\"accuracy\"],\n",
    "        loss=tf.keras.losses.SparseCategoricalCrossentropy()\n",
    "    )\n",
    "\n",
    "    return model"
   ]
  },
  {
   "cell_type": "code",
   "execution_count": null,
   "metadata": {
    "colab": {
     "base_uri": "https://localhost:8080/"
    },
    "executionInfo": {
     "elapsed": 20,
     "status": "ok",
     "timestamp": 1697973231311,
     "user": {
      "displayName": "Senash Thenuja",
      "userId": "03732622147776704394"
     },
     "user_tz": -780
    },
    "id": "1VGw3rcN3Xfp",
    "outputId": "6816031c-75d4-41bd-addf-4d67691fa1e0"
   },
   "outputs": [],
   "source": [
    "# Peaking into the architecture of the model!\n",
    "smp_model = build_model()\n",
    "smp_model.summary()"
   ]
  },
  {
   "cell_type": "code",
   "execution_count": null,
   "metadata": {
    "id": "8pUD_0LLmEJ8"
   },
   "outputs": [],
   "source": [
    "BATCH_SIZE = 32 # @param {type:\"slider\", min:0, max:102, step:10}"
   ]
  },
  {
   "cell_type": "code",
   "execution_count": null,
   "metadata": {
    "id": "nZGURoOVp51S"
   },
   "outputs": [],
   "source": [
    "train_dataset = train_dataset.shuffle(buffer_size=num_training_data).batch(BATCH_SIZE)\n",
    "test_dataset = test_dataset.batch(BATCH_SIZE)"
   ]
  },
  {
   "cell_type": "code",
   "execution_count": null,
   "metadata": {
    "colab": {
     "base_uri": "https://localhost:8080/",
     "height": 386
    },
    "executionInfo": {
     "elapsed": 8,
     "status": "error",
     "timestamp": 1697973339878,
     "user": {
      "displayName": "Senash Thenuja",
      "userId": "03732622147776704394"
     },
     "user_tz": -780
    },
    "id": "C0OFC675ESsE",
    "outputId": "87a40875-b50a-4308-d7b5-2fa22d4dc57f"
   },
   "outputs": [],
   "source": [
    "from tensorflow.keras.preprocessing.image import ImageDataGenerator\n",
    "\n",
    "# Instatiating the Generator Object with Property Ranges\n",
    "datagen = ImageDataGenerator(\n",
    "    rotation_range=40,\n",
    "    width_shift_range=0.2,\n",
    "    height_shift_range=0.2,\n",
    "    shear_range=0.2,\n",
    "    zoom_range=0.2,\n",
    "    horizontal_flip=True,\n",
    "    fill_mode=\"nearest\"\n",
    ")\n",
    "\n",
    "# You must need batches containing images.\n",
    "augmented_img_batch = datagen.flow(train_dataset, save_prefix=\"test\", save_format=\"jpeg\")"
   ]
  },
  {
   "cell_type": "code",
   "execution_count": null,
   "metadata": {
    "colab": {
     "base_uri": "https://localhost:8080/"
    },
    "executionInfo": {
     "elapsed": 1932,
     "status": "ok",
     "timestamp": 1697970181796,
     "user": {
      "displayName": "Senash Thenuja",
      "userId": "03732622147776704394"
     },
     "user_tz": -780
    },
    "id": "UcfpOoR_tDe-",
    "outputId": "1b5da49a-d877-47f3-f3de-9e54c86afc2f"
   },
   "outputs": [],
   "source": [
    "loss, accuracy = model.evaluate(test_dataset)\n",
    "print(f\"Your cooool model has an accuracy score of {accuracy}\")"
   ]
  },
  {
   "cell_type": "markdown",
   "metadata": {
    "id": "c9HRvg-xGkok"
   },
   "source": [
    "## Getting Predictions"
   ]
  },
  {
   "cell_type": "code",
   "execution_count": null,
   "metadata": {
    "colab": {
     "base_uri": "https://localhost:8080/"
    },
    "executionInfo": {
     "elapsed": 332,
     "status": "ok",
     "timestamp": 1697970190455,
     "user": {
      "displayName": "Senash Thenuja",
      "userId": "03732622147776704394"
     },
     "user_tz": -780
    },
    "id": "ihU4Vv137FCg",
    "outputId": "be1a8ac3-acf4-4aca-ba88-c2ccce6c822f"
   },
   "outputs": [],
   "source": [
    "for test_imgs, test_labels in test_dataset.take(1):\n",
    "    print(test_imgs.shape)\n",
    "    prediction = model.predict(test_imgs)\n",
    "    print(prediction.shape)"
   ]
  },
  {
   "cell_type": "code",
   "execution_count": null,
   "metadata": {
    "id": "HiQqN1PAyNlb"
   },
   "outputs": [],
   "source": [
    "def plot_batch_preds():\n",
    "    \"\"\"\n",
    "    Plots the predicted and the expected label along with the image!\n",
    "    \"\"\"\n",
    "    for test_images, test_labels in test_dataset.take(1):\n",
    "        test_images = test_images.numpy()\n",
    "        test_labels = test_labels.numpy()\n",
    "        pred_label_probs = model.predict(test_images)\n",
    "\n",
    "        # Start plotting\n",
    "        plt.figure(figsize=(18, 12))\n",
    "        for i in range(BATCH_SIZE):\n",
    "            # Choosing the subplot\n",
    "            plt.subplot(8, 4, i+1)\n",
    "\n",
    "            # Global settings\n",
    "            plt.grid(False)\n",
    "            plt.xticks([])\n",
    "            plt.yticks([])\n",
    "\n",
    "            # Plotting the image\n",
    "            plt.imshow(test_images[i], cmap=plt.cm.binary)\n",
    "\n",
    "            # Set the xlabel\n",
    "            pred_label = np.argmax(pred_label_probs[i])\n",
    "            if pred_label == test_labels[i]:\n",
    "                color = \"g\"\n",
    "                sign = \"==\"\n",
    "            else:\n",
    "                color = \"r\"\n",
    "                sign = \"!=\"\n",
    "\n",
    "            caption = f\"True: {class_names[test_labels[i]]} {sign} Pred: {class_names[pred_label]}\"\n",
    "            plt.xlabel(f\"{caption} \\n({np.max(pred_label_probs):.2f})\", color=color)\n",
    "\n",
    "    plt.tight_layout()\n",
    "    plt.show()"
   ]
  },
  {
   "cell_type": "code",
   "execution_count": null,
   "metadata": {
    "colab": {
     "base_uri": "https://localhost:8080/",
     "height": 1000
    },
    "executionInfo": {
     "elapsed": 2674,
     "status": "ok",
     "timestamp": 1697970199390,
     "user": {
      "displayName": "Senash Thenuja",
      "userId": "03732622147776704394"
     },
     "user_tz": -780
    },
    "id": "_1KO-KK0_Nxs",
    "outputId": "9bb3c1aa-f806-4487-90c8-834c636ff03d"
   },
   "outputs": [],
   "source": [
    "plot_batch_preds()"
   ]
  },
  {
   "cell_type": "markdown",
   "metadata": {
    "id": "XR0a-ZBd_TeD"
   },
   "source": [
    "In conclusion, the model is successful because it has an accuracy score which is greater than 0.8!"
   ]
  }
 ],
 "metadata": {
  "accelerator": "GPU",
  "colab": {
   "authorship_tag": "ABX9TyOuFGPLSsU5nRXlFqaVOxu4",
   "gpuType": "T4",
   "provenance": []
  },
  "kernelspec": {
   "display_name": "Python 3 (ipykernel)",
   "language": "python",
   "name": "python3"
  },
  "language_info": {
   "codemirror_mode": {
    "name": "ipython",
    "version": 3
   },
   "file_extension": ".py",
   "mimetype": "text/x-python",
   "name": "python",
   "nbconvert_exporter": "python",
   "pygments_lexer": "ipython3",
   "version": "3.9.18"
  }
 },
 "nbformat": 4,
 "nbformat_minor": 1
}
